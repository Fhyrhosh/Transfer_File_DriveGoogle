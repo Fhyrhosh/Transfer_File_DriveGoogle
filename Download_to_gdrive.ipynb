{
  "nbformat": 4,
  "nbformat_minor": 0,
  "metadata": {
    "colab": {
      "provenance": [],
      "authorship_tag": "ABX9TyPIIxqBc6JHPa0IA60WNKHD",
      "include_colab_link": true
    },
    "kernelspec": {
      "name": "python3",
      "display_name": "Python 3"
    },
    "language_info": {
      "name": "python"
    }
  },
  "cells": [
    {
      "cell_type": "markdown",
      "metadata": {
        "id": "view-in-github",
        "colab_type": "text"
      },
      "source": [
        "<a href=\"https://colab.research.google.com/github/Fhyrhosh/Transfer_File_DriveGoogle/blob/main/Download_to_gdrive.ipynb\" target=\"_parent\"><img src=\"https://colab.research.google.com/assets/colab-badge.svg\" alt=\"Open In Colab\"/></a>"
      ]
    },
    {
      "cell_type": "markdown",
      "source": [
        "## Download into Google Drive"
      ],
      "metadata": {
        "id": "o1C-CGMjT2GW"
      }
    },
    {
      "cell_type": "markdown",
      "source": [
        "## Isntall [cliget](https://addons.mozilla.org/id/firefox/addon/cliget/) addon on FireFox"
      ],
      "metadata": {
        "id": "O4TnMIbXUY-P"
      }
    },
    {
      "cell_type": "markdown",
      "source": [
        "## Ready to dwnload\n",
        "\n",
        "\n",
        "*   paste link download on \"url link\"\n",
        "\n"
      ],
      "metadata": {
        "id": "Hma0sc6tU9hU"
      }
    },
    {
      "cell_type": "code",
      "execution_count": null,
      "metadata": {
        "cellView": "form",
        "id": "92_omAq5TvEd"
      },
      "outputs": [],
      "source": [
        "#@title Mount Google Drive\n",
        "from google.colab import drive\n",
        "drive.mount('/content/drive')"
      ]
    },
    {
      "cell_type": "code",
      "source": [
        "#@title Start Download\n",
        "import os\n",
        "os.chdir(\"/content/drive/My Drive\")\n",
        "!wget -c \"ulr link\" --no-check-certificate"
      ],
      "metadata": {
        "cellView": "form",
        "id": "-GOgYAdUVj3O"
      },
      "execution_count": null,
      "outputs": []
    }
  ]
}